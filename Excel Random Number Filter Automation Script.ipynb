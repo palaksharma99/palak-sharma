{
  "cells": [
    {
      "cell_type": "markdown",
      "metadata": {
        "id": "view-in-github",
        "colab_type": "text"
      },
      "source": [
        "<a href=\"https://colab.research.google.com/github/palaksharma99/palak-sharma/blob/main/Excel%20Random%20Number%20Filter%20Automation%20Script.ipynb\" target=\"_parent\"><img src=\"https://colab.research.google.com/assets/colab-badge.svg\" alt=\"Open In Colab\"/></a>"
      ]
    },
    {
      "cell_type": "markdown",
      "source": [
        "#***Excel Random Number Filter Automation Script***\n",
        "\n"
      ],
      "metadata": {
        "id": "q_LIwvHtMilI"
      }
    },
    {
      "cell_type": "markdown",
      "metadata": {
        "id": "5g8b04Lnz-0o"
      },
      "source": [
        "# Import libraries"
      ]
    },
    {
      "cell_type": "code",
      "execution_count": 26,
      "metadata": {
        "id": "xWTL54Rn0DtC",
        "colab": {
          "base_uri": "https://localhost:8080/"
        },
        "outputId": "6f646ad4-ce21-4d9d-de61-a9f50bb36ec1"
      },
      "outputs": [
        {
          "output_type": "stream",
          "name": "stdout",
          "text": [
            "Requirement already satisfied: pandas in /usr/local/lib/python3.10/dist-packages (2.0.3)\n",
            "Requirement already satisfied: openpyxl in /usr/local/lib/python3.10/dist-packages (3.1.4)\n",
            "Requirement already satisfied: python-dateutil>=2.8.2 in /usr/local/lib/python3.10/dist-packages (from pandas) (2.8.2)\n",
            "Requirement already satisfied: pytz>=2020.1 in /usr/local/lib/python3.10/dist-packages (from pandas) (2023.4)\n",
            "Requirement already satisfied: tzdata>=2022.1 in /usr/local/lib/python3.10/dist-packages (from pandas) (2024.1)\n",
            "Requirement already satisfied: numpy>=1.21.0 in /usr/local/lib/python3.10/dist-packages (from pandas) (1.25.2)\n",
            "Requirement already satisfied: et-xmlfile in /usr/local/lib/python3.10/dist-packages (from openpyxl) (1.1.0)\n",
            "Requirement already satisfied: six>=1.5 in /usr/local/lib/python3.10/dist-packages (from python-dateutil>=2.8.2->pandas) (1.16.0)\n"
          ]
        }
      ],
      "source": [
        "import pandas as pd\n",
        "from pathlib import Path\n",
        "import random\n",
        "from tqdm import tqdm\n",
        "!pip install pandas openpyxl\n",
        "import os\n",
        "from google.colab import files"
      ]
    },
    {
      "cell_type": "markdown",
      "metadata": {
        "id": "ORgB-sC50KXS"
      },
      "source": [
        "# Load the source Excel file and read that file"
      ]
    },
    {
      "cell_type": "code",
      "execution_count": 33,
      "metadata": {
        "colab": {
          "base_uri": "https://localhost:8080/",
          "height": 125
        },
        "id": "xkatXbnK2tNA",
        "outputId": "8cfd265d-6756-403a-d74e-eb4f65f7d1be"
      },
      "outputs": [
        {
          "output_type": "display_data",
          "data": {
            "text/plain": [
              "<IPython.core.display.HTML object>"
            ],
            "text/html": [
              "\n",
              "     <input type=\"file\" id=\"files-5677e19c-3b1d-4690-8d45-e8f40d045395\" name=\"files[]\" multiple disabled\n",
              "        style=\"border:none\" />\n",
              "     <output id=\"result-5677e19c-3b1d-4690-8d45-e8f40d045395\">\n",
              "      Upload widget is only available when the cell has been executed in the\n",
              "      current browser session. Please rerun this cell to enable.\n",
              "      </output>\n",
              "      <script>// Copyright 2017 Google LLC\n",
              "//\n",
              "// Licensed under the Apache License, Version 2.0 (the \"License\");\n",
              "// you may not use this file except in compliance with the License.\n",
              "// You may obtain a copy of the License at\n",
              "//\n",
              "//      http://www.apache.org/licenses/LICENSE-2.0\n",
              "//\n",
              "// Unless required by applicable law or agreed to in writing, software\n",
              "// distributed under the License is distributed on an \"AS IS\" BASIS,\n",
              "// WITHOUT WARRANTIES OR CONDITIONS OF ANY KIND, either express or implied.\n",
              "// See the License for the specific language governing permissions and\n",
              "// limitations under the License.\n",
              "\n",
              "/**\n",
              " * @fileoverview Helpers for google.colab Python module.\n",
              " */\n",
              "(function(scope) {\n",
              "function span(text, styleAttributes = {}) {\n",
              "  const element = document.createElement('span');\n",
              "  element.textContent = text;\n",
              "  for (const key of Object.keys(styleAttributes)) {\n",
              "    element.style[key] = styleAttributes[key];\n",
              "  }\n",
              "  return element;\n",
              "}\n",
              "\n",
              "// Max number of bytes which will be uploaded at a time.\n",
              "const MAX_PAYLOAD_SIZE = 100 * 1024;\n",
              "\n",
              "function _uploadFiles(inputId, outputId) {\n",
              "  const steps = uploadFilesStep(inputId, outputId);\n",
              "  const outputElement = document.getElementById(outputId);\n",
              "  // Cache steps on the outputElement to make it available for the next call\n",
              "  // to uploadFilesContinue from Python.\n",
              "  outputElement.steps = steps;\n",
              "\n",
              "  return _uploadFilesContinue(outputId);\n",
              "}\n",
              "\n",
              "// This is roughly an async generator (not supported in the browser yet),\n",
              "// where there are multiple asynchronous steps and the Python side is going\n",
              "// to poll for completion of each step.\n",
              "// This uses a Promise to block the python side on completion of each step,\n",
              "// then passes the result of the previous step as the input to the next step.\n",
              "function _uploadFilesContinue(outputId) {\n",
              "  const outputElement = document.getElementById(outputId);\n",
              "  const steps = outputElement.steps;\n",
              "\n",
              "  const next = steps.next(outputElement.lastPromiseValue);\n",
              "  return Promise.resolve(next.value.promise).then((value) => {\n",
              "    // Cache the last promise value to make it available to the next\n",
              "    // step of the generator.\n",
              "    outputElement.lastPromiseValue = value;\n",
              "    return next.value.response;\n",
              "  });\n",
              "}\n",
              "\n",
              "/**\n",
              " * Generator function which is called between each async step of the upload\n",
              " * process.\n",
              " * @param {string} inputId Element ID of the input file picker element.\n",
              " * @param {string} outputId Element ID of the output display.\n",
              " * @return {!Iterable<!Object>} Iterable of next steps.\n",
              " */\n",
              "function* uploadFilesStep(inputId, outputId) {\n",
              "  const inputElement = document.getElementById(inputId);\n",
              "  inputElement.disabled = false;\n",
              "\n",
              "  const outputElement = document.getElementById(outputId);\n",
              "  outputElement.innerHTML = '';\n",
              "\n",
              "  const pickedPromise = new Promise((resolve) => {\n",
              "    inputElement.addEventListener('change', (e) => {\n",
              "      resolve(e.target.files);\n",
              "    });\n",
              "  });\n",
              "\n",
              "  const cancel = document.createElement('button');\n",
              "  inputElement.parentElement.appendChild(cancel);\n",
              "  cancel.textContent = 'Cancel upload';\n",
              "  const cancelPromise = new Promise((resolve) => {\n",
              "    cancel.onclick = () => {\n",
              "      resolve(null);\n",
              "    };\n",
              "  });\n",
              "\n",
              "  // Wait for the user to pick the files.\n",
              "  const files = yield {\n",
              "    promise: Promise.race([pickedPromise, cancelPromise]),\n",
              "    response: {\n",
              "      action: 'starting',\n",
              "    }\n",
              "  };\n",
              "\n",
              "  cancel.remove();\n",
              "\n",
              "  // Disable the input element since further picks are not allowed.\n",
              "  inputElement.disabled = true;\n",
              "\n",
              "  if (!files) {\n",
              "    return {\n",
              "      response: {\n",
              "        action: 'complete',\n",
              "      }\n",
              "    };\n",
              "  }\n",
              "\n",
              "  for (const file of files) {\n",
              "    const li = document.createElement('li');\n",
              "    li.append(span(file.name, {fontWeight: 'bold'}));\n",
              "    li.append(span(\n",
              "        `(${file.type || 'n/a'}) - ${file.size} bytes, ` +\n",
              "        `last modified: ${\n",
              "            file.lastModifiedDate ? file.lastModifiedDate.toLocaleDateString() :\n",
              "                                    'n/a'} - `));\n",
              "    const percent = span('0% done');\n",
              "    li.appendChild(percent);\n",
              "\n",
              "    outputElement.appendChild(li);\n",
              "\n",
              "    const fileDataPromise = new Promise((resolve) => {\n",
              "      const reader = new FileReader();\n",
              "      reader.onload = (e) => {\n",
              "        resolve(e.target.result);\n",
              "      };\n",
              "      reader.readAsArrayBuffer(file);\n",
              "    });\n",
              "    // Wait for the data to be ready.\n",
              "    let fileData = yield {\n",
              "      promise: fileDataPromise,\n",
              "      response: {\n",
              "        action: 'continue',\n",
              "      }\n",
              "    };\n",
              "\n",
              "    // Use a chunked sending to avoid message size limits. See b/62115660.\n",
              "    let position = 0;\n",
              "    do {\n",
              "      const length = Math.min(fileData.byteLength - position, MAX_PAYLOAD_SIZE);\n",
              "      const chunk = new Uint8Array(fileData, position, length);\n",
              "      position += length;\n",
              "\n",
              "      const base64 = btoa(String.fromCharCode.apply(null, chunk));\n",
              "      yield {\n",
              "        response: {\n",
              "          action: 'append',\n",
              "          file: file.name,\n",
              "          data: base64,\n",
              "        },\n",
              "      };\n",
              "\n",
              "      let percentDone = fileData.byteLength === 0 ?\n",
              "          100 :\n",
              "          Math.round((position / fileData.byteLength) * 100);\n",
              "      percent.textContent = `${percentDone}% done`;\n",
              "\n",
              "    } while (position < fileData.byteLength);\n",
              "  }\n",
              "\n",
              "  // All done.\n",
              "  yield {\n",
              "    response: {\n",
              "      action: 'complete',\n",
              "    }\n",
              "  };\n",
              "}\n",
              "\n",
              "scope.google = scope.google || {};\n",
              "scope.google.colab = scope.google.colab || {};\n",
              "scope.google.colab._files = {\n",
              "  _uploadFiles,\n",
              "  _uploadFilesContinue,\n",
              "};\n",
              "})(self);\n",
              "</script> "
            ]
          },
          "metadata": {}
        },
        {
          "output_type": "stream",
          "name": "stdout",
          "text": [
            "Saving source.xlsx to source (2).xlsx\n",
            "Uploaded file: source (2).xlsx\n",
            "File read successfully!\n"
          ]
        },
        {
          "output_type": "stream",
          "name": "stderr",
          "text": [
            "Progress: 100%|███████████████████████████████████████████████| 100/100 [00:00<00:00, 197379.01it/s]\n"
          ]
        }
      ],
      "source": [
        "# Replace with the actual file name if you know it\n",
        "\n",
        "from google.colab import files\n",
        "\n",
        "uploaded = files.upload()\n",
        "for filename in uploaded.keys():\n",
        "    print(f'Uploaded file: {filename}')\n",
        "\n",
        "if Path(filename).exists():\n",
        "  df_source = pd.read_excel(filename)\n",
        "  print(f\"File read successfully!\")\n",
        "else:\n",
        "  print(f\"File not found at: {filename}\")\n",
        "\n",
        "for _ in tqdm(range(100), desc=\"Progress\", ncols=100):\n",
        "        pass"
      ]
    },
    {
      "cell_type": "markdown",
      "metadata": {
        "id": "9_xBE4MC0PYG"
      },
      "source": [
        "# User generated range"
      ]
    },
    {
      "cell_type": "code",
      "execution_count": 34,
      "metadata": {
        "colab": {
          "base_uri": "https://localhost:8080/"
        },
        "id": "bCI5Jxzl0Wzp",
        "outputId": "b9f9438b-7e7e-4883-fb10-9d9f0d646f16"
      },
      "outputs": [
        {
          "name": "stdout",
          "output_type": "stream",
          "text": [
            "Enter the start of range: 1\n",
            "Enter the end of the range: 50\n",
            "Enter the number of random numbers to generate: 5\n"
          ]
        }
      ],
      "source": [
        "# start range\n",
        "try:\n",
        "    range_start = int(input(\"Enter the start of range: \"))\n",
        "except ValueError:\n",
        "    print(\"Invalid input. Please enter a numeric value.\")\n",
        "    exit()\n",
        "# end range\n",
        "try:\n",
        "    range_end = int(input(\"Enter the end of the range: \"))\n",
        "except ValueError:\n",
        "    print(\"Invalid input. Please enter a numeric value.\")\n",
        "    exit()\n",
        "# number of random numbers to generate\n",
        "try:\n",
        "    num_random_numbers = int(input(\"Enter the number of random numbers to generate: \"))\n",
        "except ValueError:\n",
        "    print(\"Invalid input. Please enter a numeric value.\")\n",
        "    exit()\n"
      ]
    },
    {
      "cell_type": "markdown",
      "metadata": {
        "id": "e0drH7qy0a49"
      },
      "source": [
        "# Function to generate random numbers ensuring they do not start with 0 and are unique"
      ]
    },
    {
      "cell_type": "code",
      "execution_count": 35,
      "metadata": {
        "id": "OcmmzT5O0le9"
      },
      "outputs": [],
      "source": [
        "def generate_random_numbers(start, end, count):\n",
        "    numbers = set()\n",
        "    while len(numbers) < count:\n",
        "        number = random.randint(start, end)\n",
        "        if str(number)[0] != '0':  # Ensures the number does not start with 0\n",
        "            numbers.add(number)\n",
        "    number_list = list(numbers)\n",
        "    return number_list"
      ]
    },
    {
      "cell_type": "markdown",
      "metadata": {
        "id": "oF-4FwEi0rSK"
      },
      "source": [
        "# Random numbers generated"
      ]
    },
    {
      "cell_type": "code",
      "execution_count": 36,
      "metadata": {
        "colab": {
          "base_uri": "https://localhost:8080/"
        },
        "id": "Zv633UHZ0x2X",
        "outputId": "fc7d1b9f-fd7b-47f7-edc3-3b6bf46e336b"
      },
      "outputs": [
        {
          "output_type": "stream",
          "name": "stdout",
          "text": [
            "[42, 11, 12, 23, 30]\n"
          ]
        }
      ],
      "source": [
        "random_numbers = generate_random_numbers(range_start, range_end, num_random_numbers)\n",
        "print(random_numbers)"
      ]
    },
    {
      "cell_type": "markdown",
      "metadata": {
        "id": "Ph-jQcxB00Jb"
      },
      "source": [
        "# Save the random numbers to a random.txt file"
      ]
    },
    {
      "cell_type": "code",
      "source": [
        "random_file_path = 'random.txt'\n",
        "\n",
        "with open(random_file_path, 'w') as file:\n",
        "    for number in random_numbers:\n",
        "        file.write(f\"{number}\\n\")\n",
        "\n",
        "print(f\"Random numbers saved to: {random_file_path}\")\n",
        "\n",
        "download_option = input(\"Do you want to download the random.txt file? (yes/no): \").strip().lower()\n",
        "\n",
        "if download_option == 'yes':\n",
        "    print(\"Preparing to download random.txt file...\")\n",
        "    for _ in tqdm(range(100), desc=\"Progress\", ncols=100):\n",
        "        pass\n",
        "    files.download(random_file_path)\n",
        "else:\n",
        "    print(\"Download canceled.\")\n"
      ],
      "metadata": {
        "colab": {
          "base_uri": "https://localhost:8080/",
          "height": 86
        },
        "id": "xAmTkPFIe_uH",
        "outputId": "ad549dc6-01de-4f95-ee78-6c6c605515da"
      },
      "execution_count": 37,
      "outputs": [
        {
          "output_type": "stream",
          "name": "stdout",
          "text": [
            "Random numbers saved to: random.txt\n",
            "Do you want to download the random.txt file? (yes/no): yes\n",
            "Preparing to download random.txt file...\n"
          ]
        },
        {
          "output_type": "stream",
          "name": "stderr",
          "text": [
            "Progress: 100%|███████████████████████████████████████████████| 100/100 [00:00<00:00, 491136.30it/s]\n"
          ]
        },
        {
          "output_type": "display_data",
          "data": {
            "text/plain": [
              "<IPython.core.display.Javascript object>"
            ],
            "application/javascript": [
              "\n",
              "    async function download(id, filename, size) {\n",
              "      if (!google.colab.kernel.accessAllowed) {\n",
              "        return;\n",
              "      }\n",
              "      const div = document.createElement('div');\n",
              "      const label = document.createElement('label');\n",
              "      label.textContent = `Downloading \"${filename}\": `;\n",
              "      div.appendChild(label);\n",
              "      const progress = document.createElement('progress');\n",
              "      progress.max = size;\n",
              "      div.appendChild(progress);\n",
              "      document.body.appendChild(div);\n",
              "\n",
              "      const buffers = [];\n",
              "      let downloaded = 0;\n",
              "\n",
              "      const channel = await google.colab.kernel.comms.open(id);\n",
              "      // Send a message to notify the kernel that we're ready.\n",
              "      channel.send({})\n",
              "\n",
              "      for await (const message of channel.messages) {\n",
              "        // Send a message to notify the kernel that we're ready.\n",
              "        channel.send({})\n",
              "        if (message.buffers) {\n",
              "          for (const buffer of message.buffers) {\n",
              "            buffers.push(buffer);\n",
              "            downloaded += buffer.byteLength;\n",
              "            progress.value = downloaded;\n",
              "          }\n",
              "        }\n",
              "      }\n",
              "      const blob = new Blob(buffers, {type: 'application/binary'});\n",
              "      const a = document.createElement('a');\n",
              "      a.href = window.URL.createObjectURL(blob);\n",
              "      a.download = filename;\n",
              "      div.appendChild(a);\n",
              "      a.click();\n",
              "      div.remove();\n",
              "    }\n",
              "  "
            ]
          },
          "metadata": {}
        },
        {
          "output_type": "display_data",
          "data": {
            "text/plain": [
              "<IPython.core.display.Javascript object>"
            ],
            "application/javascript": [
              "download(\"download_f29f0424-d769-4c7c-89cc-1b75788fc94c\", \"random.txt\", 15)"
            ]
          },
          "metadata": {}
        }
      ]
    },
    {
      "cell_type": "markdown",
      "metadata": {
        "id": "5Xzjc8pJ088F"
      },
      "source": [
        "# Filter the DataFrame to rows where the number is found in the specified column"
      ]
    },
    {
      "cell_type": "code",
      "execution_count": 38,
      "metadata": {
        "colab": {
          "base_uri": "https://localhost:8080/"
        },
        "id": "62E1qxKH1C8F",
        "outputId": "b1165f25-ad64-4818-b79b-02c971e4d2a8"
      },
      "outputs": [
        {
          "output_type": "stream",
          "name": "stdout",
          "text": [
            "Index(['S.No.', 'Unnamed: 1', 'Monitoring Period Days', 'Unnamed: 3',\n",
            "       'Unnamed: 4', 'Unnamed: 5', 'Unnamed: 6', 'Unnamed: 7', 'Unnamed: 8',\n",
            "       'Unnamed: 9', 'Unnamed: 10', 'Unnamed: 11', 'Unnamed: 12',\n",
            "       'Unnamed: 13', 'Unnamed: 14', 'Unnamed: 15', 'Unnamed: 16',\n",
            "       'Unnamed: 17', 'Unnamed: 18', 'Unnamed: 19'],\n",
            "      dtype='object')\n",
            "File read successfully!\n",
            "   S.No.         Unnamed: 1 Monitoring Period Days Unnamed: 3  \\\n",
            "16    11      SUSMITA BHUYA        SACHINDRA BHUYA    WARD- 1   \n",
            "17    12        JHARNA GIRI         BANIBRATA GIRI    WARD- 1   \n",
            "28    23        REHANA BIBI             SAK SAMMED    WARD- 1   \n",
            "35    30       MAYNA KHATUN            MAKSED KHAN    WARD- 1   \n",
            "47    42  SANGHAMITRA BHUYA       PACAUGOPAL BHUYA    WARD- 1   \n",
            "\n",
            "             Unnamed: 4 Unnamed: 5 Unnamed: 6 Unnamed: 7       Unnamed: 8  \\\n",
            "16  CONTAI MUNICIPALITY      DARUA     CONTAI  CONTAI- I  PURBA MEDINIPUR   \n",
            "17  CONTAI MUNICIPALITY      DARUA     CONTAI  CONTAI- I  PURBA MEDINIPUR   \n",
            "28  CONTAI MUNICIPALITY      DARUA     CONTAI  CONTAI- I  PURBA MEDINIPUR   \n",
            "35  CONTAI MUNICIPALITY      DARUA     CONTAI  CONTAI- I  PURBA MEDINIPUR   \n",
            "47  CONTAI MUNICIPALITY      DARUA     CONTAI  CONTAI- I  PURBA MEDINIPUR   \n",
            "\n",
            "     Unnamed: 9 Unnamed: 10          Unnamed: 11          Unnamed: 12  \\\n",
            "16  WEST BENGAL      721401  GRN/ICS/PUR/WES/011  2022-09-16 00:00:00   \n",
            "17  WEST BENGAL      721401  GRN/ICS/PUR/WES/012  2022-09-16 00:00:00   \n",
            "28  WEST BENGAL      721401  GRN/ICS/PUR/WES/023  2022-09-16 00:00:00   \n",
            "35  WEST BENGAL      721401  GRN/ICS/PUR/WES/030  2022-09-16 00:00:00   \n",
            "47  WEST BENGAL      721401  GRN/ICS/PUR/WES/042  2022-09-16 00:00:00   \n",
            "\n",
            "   Unnamed: 13 Unnamed: 14 Unnamed: 15 Unnamed: 16 Unnamed: 17 Unnamed: 18  \\\n",
            "16           1           1    0.580822    4.278339           0           0   \n",
            "17           1           1    0.580822    4.278339           0           0   \n",
            "28           1           1    0.580822    4.278339           0           0   \n",
            "35           1           1    0.580822    4.278339           0           0   \n",
            "47           1           1    0.580822    4.278339           0           0   \n",
            "\n",
            "   Unnamed: 19  \n",
            "16    4.278339  \n",
            "17    4.278339  \n",
            "28    4.278339  \n",
            "35    4.278339  \n",
            "47    4.278339  \n"
          ]
        }
      ],
      "source": [
        "df_source = pd.read_excel(filename)\n",
        "print(df_source.columns)\n",
        "filtered_df = df_source[df_source['S.No.'].isin(random_numbers)]\n",
        "if Path(filename).exists():\n",
        "  print(f\"File read successfully!\")\n",
        "else:\n",
        "  print(f\"File not found at: {filename}\")\n",
        "print(filtered_df)"
      ]
    },
    {
      "cell_type": "markdown",
      "metadata": {
        "id": "beIUDz0f1FpE"
      },
      "source": [
        "# Save the filtered DataFrame to a new Excel file"
      ]
    },
    {
      "cell_type": "code",
      "execution_count": 39,
      "metadata": {
        "id": "Zli3gau_1GLL"
      },
      "outputs": [],
      "source": [
        "output_file_path = 'C://xlsauto//output_file.xlsx'"
      ]
    },
    {
      "cell_type": "markdown",
      "metadata": {
        "id": "WaoLagv11KOa"
      },
      "source": [
        "# Show download information on the screen"
      ]
    },
    {
      "cell_type": "code",
      "source": [
        "print(\"Filtering and saving data:\")\n",
        "for _ in tqdm(range(100), desc=\"Progress\", ncols=100):\n",
        "    pass\n",
        "\n",
        "filtered_df.to_excel(output_file_path, index=False)\n",
        "\n",
        "print(f\"Filtered data saved to: {output_file_path}\")\n",
        "\n",
        "download_option = input(\"Do you want to download the updated file? (yes/no): \").strip().lower()\n",
        "\n",
        "if download_option == 'yes':\n",
        "    if Path(output_file_path).exists():\n",
        "        print(\"Preparing to download the updated file...\")\n",
        "        for _ in tqdm(range(100), desc=\"Progress\", ncols=100):\n",
        "            pass\n",
        "        files.download(output_file_path)\n",
        "    else:\n",
        "        print(\"Updated file not found.\")\n",
        "else:\n",
        "    print(\"Download canceled.\")\n"
      ],
      "metadata": {
        "colab": {
          "base_uri": "https://localhost:8080/",
          "height": 121
        },
        "id": "SyQeXdmfgHDY",
        "outputId": "523c8075-ef26-4217-a230-214a1f8a0d3e"
      },
      "execution_count": 40,
      "outputs": [
        {
          "output_type": "stream",
          "name": "stdout",
          "text": [
            "Filtering and saving data:\n"
          ]
        },
        {
          "output_type": "stream",
          "name": "stderr",
          "text": [
            "Progress: 100%|███████████████████████████████████████████████| 100/100 [00:00<00:00, 600043.49it/s]\n"
          ]
        },
        {
          "output_type": "stream",
          "name": "stdout",
          "text": [
            "Filtered data saved to: C://xlsauto//output_file.xlsx\n",
            "Do you want to download the updated file? (yes/no): yes\n",
            "Preparing to download the updated file...\n"
          ]
        },
        {
          "output_type": "stream",
          "name": "stderr",
          "text": [
            "Progress: 100%|███████████████████████████████████████████████| 100/100 [00:00<00:00, 295790.13it/s]\n"
          ]
        },
        {
          "output_type": "display_data",
          "data": {
            "text/plain": [
              "<IPython.core.display.Javascript object>"
            ],
            "application/javascript": [
              "\n",
              "    async function download(id, filename, size) {\n",
              "      if (!google.colab.kernel.accessAllowed) {\n",
              "        return;\n",
              "      }\n",
              "      const div = document.createElement('div');\n",
              "      const label = document.createElement('label');\n",
              "      label.textContent = `Downloading \"${filename}\": `;\n",
              "      div.appendChild(label);\n",
              "      const progress = document.createElement('progress');\n",
              "      progress.max = size;\n",
              "      div.appendChild(progress);\n",
              "      document.body.appendChild(div);\n",
              "\n",
              "      const buffers = [];\n",
              "      let downloaded = 0;\n",
              "\n",
              "      const channel = await google.colab.kernel.comms.open(id);\n",
              "      // Send a message to notify the kernel that we're ready.\n",
              "      channel.send({})\n",
              "\n",
              "      for await (const message of channel.messages) {\n",
              "        // Send a message to notify the kernel that we're ready.\n",
              "        channel.send({})\n",
              "        if (message.buffers) {\n",
              "          for (const buffer of message.buffers) {\n",
              "            buffers.push(buffer);\n",
              "            downloaded += buffer.byteLength;\n",
              "            progress.value = downloaded;\n",
              "          }\n",
              "        }\n",
              "      }\n",
              "      const blob = new Blob(buffers, {type: 'application/binary'});\n",
              "      const a = document.createElement('a');\n",
              "      a.href = window.URL.createObjectURL(blob);\n",
              "      a.download = filename;\n",
              "      div.appendChild(a);\n",
              "      a.click();\n",
              "      div.remove();\n",
              "    }\n",
              "  "
            ]
          },
          "metadata": {}
        },
        {
          "output_type": "display_data",
          "data": {
            "text/plain": [
              "<IPython.core.display.Javascript object>"
            ],
            "application/javascript": [
              "download(\"download_4e15be67-ac94-4e4e-8263-61cf98e57e01\", \"output_file.xlsx\", 5738)"
            ]
          },
          "metadata": {}
        }
      ]
    }
  ],
  "metadata": {
    "colab": {
      "provenance": [],
      "authorship_tag": "ABX9TyMWBcI0+2ZctirpjnIW0pm4",
      "include_colab_link": true
    },
    "kernelspec": {
      "display_name": "Python 3",
      "name": "python3"
    },
    "language_info": {
      "name": "python"
    }
  },
  "nbformat": 4,
  "nbformat_minor": 0
}